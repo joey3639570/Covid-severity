{
 "cells": [
  {
   "cell_type": "code",
   "execution_count": 1,
   "id": "87537479-7f38-4417-a773-29621366e267",
   "metadata": {},
   "outputs": [],
   "source": [
    "import os\n",
    "import pandas as pd\n",
    "import shutil\n",
    "import imageio\n",
    "import imgaug as ia\n",
    "import matplotlib.pyplot as plt\n",
    "import matplotlib.image as img\n",
    "\n",
    "from imgaug import augmenters as iaa"
   ]
  },
  {
   "cell_type": "markdown",
   "id": "1858b8fc-245f-44b0-bd0a-5ebc0ad91c13",
   "metadata": {},
   "source": [
    "## Input"
   ]
  },
  {
   "cell_type": "code",
   "execution_count": 2,
   "id": "f04f61f8-8768-4019-a262-c65e9a666448",
   "metadata": {},
   "outputs": [],
   "source": [
    "# for data cleaning\n",
    "data = \"annotations/covid-severity-scores.csv\"\n",
    "raw_image_dir = \"images\"\n",
    "error_file = ['ciaa199.pdf-001-a.png' , \n",
    "              'ciaa199.pdf-001-b.png', \n",
    "              'ciaa199.pdf-001-c.png', \n",
    "              '6C94A287-C059-46A0-8600-AFB95F4727B7.jpeg', \n",
    "              '53EC07C9-5CC6-4BE4-9B6F-D7B0D72AAA7E.jpeg', \n",
    "              'covid-19-rapidly-progressive-acute-respiratory-distress-syndrome-ards-admission.jpg', \n",
    "              'covid-19-pneumonia-28.png']"
   ]
  },
  {
   "cell_type": "code",
   "execution_count": 3,
   "id": "e97d63c5-08c6-4802-bdaa-75e305fa1ece",
   "metadata": {},
   "outputs": [],
   "source": [
    "# for augmentation\n",
    "function_names = [\"Gamma\", \"CLAHE\"]\n",
    "output_dir = \"augmented\"\n",
    "output_csv_name = \"augmented_covid-severity-scores.csv\""
   ]
  },
  {
   "cell_type": "markdown",
   "id": "46a71949-0786-42f2-9a72-b98e97683031",
   "metadata": {},
   "source": [
    "## Raw data cleaning\n",
    "You need to prepare the following contents first:\n",
    "* data -> raw covid-severity-scores.csv\n",
    "* error_file -> you need to specify which files are needed to be deleted\n",
    "* raw_image_dir -> 原圖群資料夾"
   ]
  },
  {
   "cell_type": "code",
   "execution_count": 4,
   "id": "61efb1ee-8ba9-422d-8f05-b867bd6f0bb7",
   "metadata": {},
   "outputs": [
    {
     "name": "stdout",
     "output_type": "stream",
     "text": [
      "  ## COVID-19 Pneumonia Severity Scores (Mean of 3 expert raters)  \\\n",
      "0  ## License: CC BY-SA Creative Commons Attribut...                \n",
      "1  ## Citation: Joseph Paul Cohen et al. Predicti...                \n",
      "2  ## geographic_extent_mean: The extent of lung ...                \n",
      "3  ## opacity_mean: The degree of opacity. The to...                \n",
      "4                                           filename                \n",
      "\n",
      "        Unnamed: 1    Unnamed: 2  \n",
      "0              NaN           NaN  \n",
      "1              NaN           NaN  \n",
      "2              NaN           NaN  \n",
      "3              NaN           NaN  \n",
      "4  geographic_mean  opacity_mean  \n"
     ]
    }
   ],
   "source": [
    "df = pd.read_csv(data)\n",
    "print(df.head())\n",
    "# delete description data\n",
    "df = df.iloc[5:,:]\n",
    "#df.head()\n",
    "# data cleaning\n",
    "\n",
    "df_cleaned = df[~df.iloc[:,0].isin(error_file)]"
   ]
  },
  {
   "cell_type": "markdown",
   "id": "cd2d0ed3-3960-4012-8401-204b24891d29",
   "metadata": {},
   "source": [
    "## data augmentation\n",
    "You need to prepare the following contents first:\n",
    "* function_names -> 要選用的擴增功能\"們\"\n",
    "* output_dir -> 產圖, csv 的資料夾"
   ]
  },
  {
   "cell_type": "code",
   "execution_count": 5,
   "id": "2247a562-1c33-4e4c-b501-1b2539be60b3",
   "metadata": {},
   "outputs": [],
   "source": [
    "output_csv = df.copy()\n",
    "output_csv.columns = [\"name\", \"geographic_mean\", \"opacity_mean\"]\n",
    "\n",
    "if not os.path.exists(output_dir):\n",
    "        os.makedirs(output_dir)\n",
    "\n",
    "total_dir = os.path.join(output_dir, \"total\")\n",
    "if not os.path.exists(total_dir):\n",
    "        os.makedirs(total_dir)\n",
    "        \n",
    "save_dir = os.path.join(output_dir, \"original\")\n",
    "if not os.path.exists(save_dir):\n",
    "        os.makedirs(save_dir)\n",
    "for data in df_cleaned.iloc[:,0].tolist():\n",
    "    shutil.copy(os.path.join(raw_image_dir, data), save_dir)\n",
    "    shutil.copy(os.path.join(raw_image_dir, data), total_dir)\n",
    "\n",
    "for function_name in function_names:\n",
    "    save_dir = os.path.join(output_dir, function_name)\n",
    "    if not os.path.exists(save_dir):\n",
    "        os.makedirs(save_dir)\n",
    "    \n",
    "    for index, row in df_cleaned.iterrows():\n",
    "        data = row[0]\n",
    "        geographic_mean = row[1]\n",
    "        opacity_mean = row[2]\n",
    "        data_name, ext = os.path.splitext(data)\n",
    "        data_path = os.path.join(raw_image_dir, data)\n",
    "        image = imageio.imread(data_path)\n",
    "\n",
    "        # aug function select\n",
    "        if function_name == \"CLAHE\":\n",
    "            function = iaa.CLAHE()\n",
    "        elif function_name == \"Gamma\":\n",
    "            function = iaa.GammaContrast((0.5, 2.0))\n",
    "\n",
    "        image_aug = function(image=image)\n",
    "        newPath = os.path.join(save_dir, data_name+f\"_{function_name}\"+ext)\n",
    "        new = pd.DataFrame([[data_name+f\"_{function_name}\"+ext, geographic_mean, opacity_mean]], columns=[\"name\", \"geographic_mean\", \"opacity_mean\"])\n",
    "        output_csv.append(new)\n",
    "        imageio.imsave(newPath, image_aug)\n",
    "        shutil.copy(newPath, total_dir)"
   ]
  },
  {
   "cell_type": "code",
   "execution_count": 6,
   "id": "bd77e3fa-682c-4672-a34e-253b69fdcc63",
   "metadata": {},
   "outputs": [],
   "source": [
    "output_csv.to_csv(os.path.join(output_dir,output_csv_name))"
   ]
  }
 ],
 "metadata": {
  "kernelspec": {
   "display_name": "Python 3",
   "language": "python",
   "name": "python3"
  },
  "language_info": {
   "codemirror_mode": {
    "name": "ipython",
    "version": 3
   },
   "file_extension": ".py",
   "mimetype": "text/x-python",
   "name": "python",
   "nbconvert_exporter": "python",
   "pygments_lexer": "ipython3",
   "version": "3.8.8"
  }
 },
 "nbformat": 4,
 "nbformat_minor": 5
}
